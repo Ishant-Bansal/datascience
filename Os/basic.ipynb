{
 "cells": [
  {
   "cell_type": "code",
   "execution_count": 1,
   "id": "e9d0dfd5",
   "metadata": {},
   "outputs": [
    {
     "data": {
      "text/plain": [
       "'c:\\\\Users\\\\ishan\\\\OneDrive\\\\Desktop\\\\upflair\\\\Os'"
      ]
     },
     "execution_count": 1,
     "metadata": {},
     "output_type": "execute_result"
    }
   ],
   "source": [
    "import os\n",
    "os.getcwd()"
   ]
  },
  {
   "cell_type": "code",
   "execution_count": 2,
   "id": "92ef9aba",
   "metadata": {},
   "outputs": [
    {
     "data": {
      "text/plain": [
       "['basic.ipynb',\n",
       " 'basic.py',\n",
       " 'condition.ipynb',\n",
       " 'function.ipynb',\n",
       " 'looping.ipynb',\n",
       " 'oops.ipynb']"
      ]
     },
     "execution_count": 2,
     "metadata": {},
     "output_type": "execute_result"
    }
   ],
   "source": [
    "path = r\"c:\\Users\\ishan\\OneDrive\\Desktop\\upflair\\Python\"\n",
    "os.listdir(path)"
   ]
  },
  {
   "cell_type": "code",
   "execution_count": 3,
   "id": "4443a1c0",
   "metadata": {},
   "outputs": [],
   "source": [
    "os.mkdir(\"demo\")"
   ]
  },
  {
   "cell_type": "code",
   "execution_count": 4,
   "id": "97ada633",
   "metadata": {},
   "outputs": [],
   "source": [
    "os.rename(\"demo\",\"datascience\")"
   ]
  },
  {
   "cell_type": "code",
   "execution_count": 5,
   "id": "65d7c4b8",
   "metadata": {},
   "outputs": [],
   "source": [
    "os.rmdir(\"datascience\")"
   ]
  },
  {
   "cell_type": "code",
   "execution_count": 6,
   "id": "48f27c6a",
   "metadata": {},
   "outputs": [
    {
     "data": {
      "text/plain": [
       "True"
      ]
     },
     "execution_count": 6,
     "metadata": {},
     "output_type": "execute_result"
    }
   ],
   "source": [
    "path = r\"C:\\vs code\\python\\pettern\"\n",
    "os.path.isdir(path)"
   ]
  },
  {
   "cell_type": "code",
   "execution_count": 7,
   "id": "f929cd2a",
   "metadata": {},
   "outputs": [
    {
     "data": {
      "text/plain": [
       "True"
      ]
     },
     "execution_count": 7,
     "metadata": {},
     "output_type": "execute_result"
    }
   ],
   "source": [
    "os.path.isfile(r\"c:\\Users\\ishan\\OneDrive\\Desktop\\upflair\\Python\\basic.py\")"
   ]
  },
  {
   "cell_type": "code",
   "execution_count": null,
   "id": "e69ba25e",
   "metadata": {},
   "outputs": [],
   "source": []
  }
 ],
 "metadata": {
  "kernelspec": {
   "display_name": "Python 3",
   "language": "python",
   "name": "python3"
  },
  "language_info": {
   "codemirror_mode": {
    "name": "ipython",
    "version": 3
   },
   "file_extension": ".py",
   "mimetype": "text/x-python",
   "name": "python",
   "nbconvert_exporter": "python",
   "pygments_lexer": "ipython3",
   "version": "3.11.5"
  }
 },
 "nbformat": 4,
 "nbformat_minor": 5
}
