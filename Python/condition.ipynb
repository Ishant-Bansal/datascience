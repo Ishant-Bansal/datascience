{
 "cells": [
  {
   "cell_type": "code",
   "execution_count": 1,
   "id": "d81f2197",
   "metadata": {},
   "outputs": [
    {
     "name": "stdout",
     "output_type": "stream",
     "text": [
      "ten is grater 5\n"
     ]
    }
   ],
   "source": [
    "if 10>5:\n",
    "    print(\"ten is grater 5\")\n",
    "elif 5<10:\n",
    "    print(\"bnghb\")\n",
    "else:\n",
    "    print(\"10 is less 5\")"
   ]
  },
  {
   "cell_type": "code",
   "execution_count": 3,
   "id": "b81abf95",
   "metadata": {},
   "outputs": [],
   "source": [
    "# a=10\n",
    "# b=20\n",
    "# c=30\n",
    "# lst =[2,4,5,6,6,7.90]\n",
    "# find largests"
   ]
  },
  {
   "cell_type": "code",
   "execution_count": 2,
   "id": "9fbe11d8",
   "metadata": {},
   "outputs": [
    {
     "data": {
      "text/plain": [
       "5"
      ]
     },
     "execution_count": 2,
     "metadata": {},
     "output_type": "execute_result"
    }
   ],
   "source": [
    "task = [\"ish\",\"me\",(2,3,[4,5],6)]\n",
    "task[2][2][1]"
   ]
  },
  {
   "cell_type": "code",
   "execution_count": null,
   "id": "74ca3769",
   "metadata": {},
   "outputs": [],
   "source": []
  }
 ],
 "metadata": {
  "kernelspec": {
   "display_name": "Python 3",
   "language": "python",
   "name": "python3"
  },
  "language_info": {
   "codemirror_mode": {
    "name": "ipython",
    "version": 3
   },
   "file_extension": ".py",
   "mimetype": "text/x-python",
   "name": "python",
   "nbconvert_exporter": "python",
   "pygments_lexer": "ipython3",
   "version": "3.11.5"
  }
 },
 "nbformat": 4,
 "nbformat_minor": 5
}
