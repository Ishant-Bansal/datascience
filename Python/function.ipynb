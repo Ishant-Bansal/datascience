{
 "cells": [
  {
   "cell_type": "code",
   "execution_count": 2,
   "id": "1add3bfb",
   "metadata": {},
   "outputs": [],
   "source": [
    "def fun_name():\n",
    "    pass"
   ]
  },
  {
   "cell_type": "code",
   "execution_count": 1,
   "id": "d9b6d18a",
   "metadata": {},
   "outputs": [
    {
     "name": "stdout",
     "output_type": "stream",
     "text": [
      "5\n"
     ]
    }
   ],
   "source": [
    "def fun_name(a):\n",
    "    print(a)\n",
    "fun_name(5)"
   ]
  },
  {
   "cell_type": "code",
   "execution_count": 3,
   "id": "1815d72e",
   "metadata": {},
   "outputs": [
    {
     "data": {
      "text/plain": [
       "30"
      ]
     },
     "execution_count": 3,
     "metadata": {},
     "output_type": "execute_result"
    }
   ],
   "source": [
    "def add():\n",
    "    return 10+20\n",
    "add()"
   ]
  },
  {
   "cell_type": "code",
   "execution_count": 4,
   "id": "4cf950a4",
   "metadata": {},
   "outputs": [
    {
     "name": "stdout",
     "output_type": "stream",
     "text": [
      "25\n"
     ]
    }
   ],
   "source": [
    "def sqr(a):\n",
    "    print(a**2)\n",
    "sqr(5)"
   ]
  },
  {
   "cell_type": "code",
   "execution_count": 5,
   "id": "3b246207",
   "metadata": {},
   "outputs": [
    {
     "name": "stdout",
     "output_type": "stream",
     "text": [
      "hi my name is ishant and i am second year student\n"
     ]
    }
   ],
   "source": [
    "def detail(name , year = \"second year\"):\n",
    "    print(f\"hi my name is {name} and i am {year} student\")\n",
    "detail(\"ishant\")"
   ]
  },
  {
   "cell_type": "code",
   "execution_count": 9,
   "id": "4019113c",
   "metadata": {},
   "outputs": [
    {
     "name": "stdout",
     "output_type": "stream",
     "text": [
      "A is largest number\n"
     ]
    }
   ],
   "source": [
    "def Max(a,b,c):\n",
    "    if a > b:\n",
    "        print(\"A is largest number\")\n",
    "    elif b>c:\n",
    "        print(\"B is largest number \")\n",
    "    else:\n",
    "        print(\"C is largest number \")\n",
    "Max(50,40,30)"
   ]
  },
  {
   "cell_type": "code",
   "execution_count": 10,
   "id": "0e21d71c",
   "metadata": {},
   "outputs": [
    {
     "name": "stdout",
     "output_type": "stream",
     "text": [
      "90\n"
     ]
    }
   ],
   "source": [
    "def large():\n",
    "     lst =[2,4,5,6,6,7,90]\n",
    "     print(max(lst))\n",
    "large()"
   ]
  },
  {
   "cell_type": "code",
   "execution_count": null,
   "id": "50c2d1e2",
   "metadata": {},
   "outputs": [
    {
     "data": {
      "text/plain": [
       "16"
      ]
     },
     "execution_count": 12,
     "metadata": {},
     "output_type": "execute_result"
    }
   ],
   "source": [
    "#lambda\n",
    "add = lambda a,b : a+b\n",
    "add(2,6)\n",
    "sqr =lambda a: a**2\n",
    "sqr(4)\n"
   ]
  },
  {
   "cell_type": "code",
   "execution_count": null,
   "id": "9a90a6fd",
   "metadata": {},
   "outputs": [],
   "source": []
  }
 ],
 "metadata": {
  "kernelspec": {
   "display_name": "Python 3",
   "language": "python",
   "name": "python3"
  },
  "language_info": {
   "codemirror_mode": {
    "name": "ipython",
    "version": 3
   },
   "file_extension": ".py",
   "mimetype": "text/x-python",
   "name": "python",
   "nbconvert_exporter": "python",
   "pygments_lexer": "ipython3",
   "version": "3.11.5"
  }
 },
 "nbformat": 4,
 "nbformat_minor": 5
}
