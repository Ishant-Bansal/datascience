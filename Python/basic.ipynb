{
 "cells": [
  {
   "cell_type": "markdown",
   "id": "ecd3e71a",
   "metadata": {},
   "source": [
    "<h2>variable declair</h2>"
   ]
  },
  {
   "cell_type": "code",
   "execution_count": null,
   "id": "03f46a4d",
   "metadata": {},
   "outputs": [
    {
     "name": "stdout",
     "output_type": "stream",
     "text": [
      "ishant\n",
      "19\n",
      "alwar\n"
     ]
    }
   ],
   "source": [
    "name = \"ishant\"     # string type\n",
    "age = 19            # int type\n",
    "city = \"alwar\"      # string type\n",
    "print(name)\n",
    "print(age)\n",
    "print(city)"
   ]
  },
  {
   "cell_type": "markdown",
   "id": "f15be350",
   "metadata": {},
   "source": [
    "| Code                                           | Data Type    |\n",
    "|------------------------------------------------|--------------|\n",
    "| `x = \"Hello World\"`                            | `str`        |\n",
    "| `x = 20`                                       | `int`        |\n",
    "| `x = 20.5`                                     | `float`      |\n",
    "| `x = 1j`                                       | `complex`    |\n",
    "| `x = [\"apple\", \"banana\", \"cherry\"]`            | `list`       |\n",
    "| `x = (\"apple\", \"banana\", \"cherry\")`            | `tuple`      |\n",
    "| `x = range(6)`                                 | `range`      |\n",
    "| `x = {\"name\": \"John\", \"age\": 36}`              | `dict`       |\n",
    "| `x = {\"apple\", \"banana\", \"cherry\"}`            | `set`        |\n",
    "| `x = frozenset({\"apple\", \"banana\", \"cherry\"})` | `frozenset`  |\n",
    "| `x = True`                                     | `bool`       |\n",
    "| `x = b\"Hello\"`                                 | `bytes`      |\n",
    "| `x = bytearray(5)`                             | `bytearray`  |\n",
    "| `x = memoryview(bytes(5))`                     | `memoryview` |\n",
    "| `x = None`                                     | `NoneType`   |\n"
   ]
  },
  {
   "cell_type": "markdown",
   "id": "75aa08fb",
   "metadata": {},
   "source": [
    "<h2> String </h2>"
   ]
  },
  {
   "cell_type": "code",
   "execution_count": 4,
   "id": "82d5d5d8",
   "metadata": {},
   "outputs": [
    {
     "name": "stdout",
     "output_type": "stream",
     "text": [
      "Lorem ipsum dolor sit amet,consectetur adipiscing elit,sed do eiusmod tempor incididuntut labore et dolore magna aliqua\n"
     ]
    }
   ],
   "source": [
    "a = \"Lorem ipsum dolor sit amet,consectetur adipiscing elit,sed do eiusmod tempor incididuntut labore et dolore magna aliqua\"\n",
    "print(a)"
   ]
  },
  {
   "cell_type": "markdown",
   "id": "53c8ed9d",
   "metadata": {},
   "source": [
    "<h3>Slicing<h3>"
   ]
  },
  {
   "cell_type": "code",
   "execution_count": 6,
   "id": "93a6d71c",
   "metadata": {},
   "outputs": [
    {
     "name": "stdout",
     "output_type": "stream",
     "text": [
      "Lorem ipsum dolor sit amet,consectetur adipiscing \n"
     ]
    }
   ],
   "source": [
    "print(a[0:50])"
   ]
  },
  {
   "cell_type": "markdown",
   "id": "74998e56",
   "metadata": {},
   "source": [
    "<h3>Modifing</h3>"
   ]
  },
  {
   "cell_type": "code",
   "execution_count": 7,
   "id": "de7063b8",
   "metadata": {},
   "outputs": [
    {
     "name": "stdout",
     "output_type": "stream",
     "text": [
      "LOREM IPSUM DOLOR SIT AMET,CONSECTETUR ADIPISCING ELIT,SED DO EIUSMOD TEMPOR INCIDIDUNTUT LABORE ET DOLORE MAGNA ALIQUA\n",
      "lorem ipsum dolor sit amet,consectetur adipiscing elit,sed do eiusmod tempor incididuntut labore et dolore magna aliqua\n"
     ]
    }
   ],
   "source": [
    "print(a.upper()) # for upper case\n",
    "print(a.lower()) # for lower case"
   ]
  },
  {
   "cell_type": "code",
   "execution_count": null,
   "id": "57fd7663",
   "metadata": {},
   "outputs": [],
   "source": []
  }
 ],
 "metadata": {
  "kernelspec": {
   "display_name": "Python 3",
   "language": "python",
   "name": "python3"
  },
  "language_info": {
   "codemirror_mode": {
    "name": "ipython",
    "version": 3
   },
   "file_extension": ".py",
   "mimetype": "text/x-python",
   "name": "python",
   "nbconvert_exporter": "python",
   "pygments_lexer": "ipython3",
   "version": "3.11.5"
  }
 },
 "nbformat": 4,
 "nbformat_minor": 5
}
