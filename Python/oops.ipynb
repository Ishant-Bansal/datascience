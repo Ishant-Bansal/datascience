{
 "cells": [
  {
   "cell_type": "markdown",
   "id": "8158fc05",
   "metadata": {},
   "source": [
    "<h1>OOPS Concept</h1>"
   ]
  },
  {
   "cell_type": "code",
   "execution_count": 56,
   "id": "43e07cb4",
   "metadata": {},
   "outputs": [
    {
     "name": "stdout",
     "output_type": "stream",
     "text": [
      "rohit\n",
      "second year\n",
      "21LU0564\n",
      "student name is rohit and roll no is 21LU0564 and class is second year\n"
     ]
    }
   ],
   "source": [
    "class Student:\n",
    "    student_name = \"rohit\"\n",
    "    year = \"second year\"\n",
    "    roll_no = \"21LU0564\"\n",
    "    def display(self):\n",
    "        print(f\"student name is {self.student_name} and roll no is {self.roll_no} and class is {self.year}\")\n",
    "obj = Student()\n",
    "print(obj.student_name)\n",
    "print(obj.year)\n",
    "print(obj.roll_no)\n",
    "obj.display()\n",
    "    "
   ]
  },
  {
   "cell_type": "markdown",
   "id": "35d693b8",
   "metadata": {},
   "source": [
    "<h2>INHERITANCE IN PYTHON</h2>"
   ]
  },
  {
   "cell_type": "markdown",
   "id": "2390dd83",
   "metadata": {},
   "source": [
    "| *Type of Inheritance*      | *Description*                                                                       | *Diagram Example*        |\n",
    "| ---------------------------- | ------------------------------------------------------------------------------------- | -------------------------- |\n",
    "| *Single Inheritance*       | A child class inherits from a single parent class.                                    | A → B                    |\n",
    "| *Multiple Inheritance*     | A child class inherits from more than one parent class.                               | A → C ← B                |\n",
    "| *Multilevel Inheritance*   | A child class inherits from a parent class, which itself inherits from another class. | A → B → C                |\n",
    "| *Hierarchical Inheritance* | Multiple child classes inherit from the same parent class.                            | ` A → B`<br>` A → C`       |\n",
    "| *Hybrid Inheritance*       | A combination of two or more types of inheritance.                                    | Combination of above forms |"
   ]
  },
  {
   "cell_type": "markdown",
   "id": "b6eae95b",
   "metadata": {},
   "source": [
    "<h3>single inheritance</h3>"
   ]
  },
  {
   "cell_type": "code",
   "execution_count": 58,
   "id": "5f828b15",
   "metadata": {},
   "outputs": [
    {
     "data": {
      "text/plain": [
       "150000"
      ]
     },
     "execution_count": 58,
     "metadata": {},
     "output_type": "execute_result"
    }
   ],
   "source": [
    "class collage:\n",
    "    student_fees = 150000\n",
    "class studentt(collage):\n",
    "    student_name = \"ishant\"\n",
    "    student_roll = 21\n",
    "st_obj = studentt()\n",
    "st_obj.student_name\n",
    "st_obj.student_fees"
   ]
  },
  {
   "cell_type": "markdown",
   "id": "504c91c9",
   "metadata": {},
   "source": [
    "<h3> multiple inheritance</h3>"
   ]
  },
  {
   "cell_type": "code",
   "execution_count": 61,
   "id": "a8d99c21",
   "metadata": {},
   "outputs": [
    {
     "name": "stdout",
     "output_type": "stream",
     "text": [
      "ishu\n",
      "21\n",
      "2nd\n"
     ]
    }
   ],
   "source": [
    "class a:\n",
    "    name = \"ishu\"\n",
    "class b:\n",
    "    roll = 21\n",
    "class c(a,b):\n",
    "    year  = \"2nd\"\n",
    "ob = c()\n",
    "print(ob.name)\n",
    "print(ob.roll)\n",
    "print(ob.year)"
   ]
  },
  {
   "cell_type": "markdown",
   "id": "434aa763",
   "metadata": {},
   "source": [
    "<h3>multilevel inheritence</h3>"
   ]
  },
  {
   "cell_type": "code",
   "execution_count": 65,
   "id": "6e2dac91",
   "metadata": {},
   "outputs": [
    {
     "name": "stdout",
     "output_type": "stream",
     "text": [
      "Suresh\n",
      "Ramesh\n",
      "Chaman\n"
     ]
    }
   ],
   "source": [
    "class Grandfather_name:\n",
    "    def G_name(self):\n",
    "        print(\"Suresh\")\n",
    "class Father_name(Grandfather_name):\n",
    "    def F_name(self):\n",
    "        print(\"Ramesh\")\n",
    "class Child_name(Father_name):\n",
    "    def C_name(self):\n",
    "        print(\"Chaman\")\n",
    "ob = Child_name()\n",
    "ob.G_name()\n",
    "ob.F_name()\n",
    "ob.C_name()"
   ]
  },
  {
   "cell_type": "code",
   "execution_count": 66,
   "id": "e984509c",
   "metadata": {},
   "outputs": [],
   "source": [
    "class clg_facility:\n",
    "    fac = \"AC rooms\"\n",
    "    __sal = 50000\n",
    "    _placement = \"650000 per annum\"\n",
    "clg = clg_facility"
   ]
  },
  {
   "cell_type": "code",
   "execution_count": 67,
   "id": "e785cee2",
   "metadata": {},
   "outputs": [
    {
     "data": {
      "text/plain": [
       "50000"
      ]
     },
     "execution_count": 67,
     "metadata": {},
     "output_type": "execute_result"
    }
   ],
   "source": [
    "clg._clg_facility__sal"
   ]
  },
  {
   "cell_type": "markdown",
   "id": "e5fa508c",
   "metadata": {},
   "source": [
    "<h3>Polimorphism</h3>"
   ]
  },
  {
   "cell_type": "code",
   "execution_count": null,
   "id": "f919dac0",
   "metadata": {},
   "outputs": [],
   "source": [
    "print()"
   ]
  }
 ],
 "metadata": {
  "kernelspec": {
   "display_name": "Python 3",
   "language": "python",
   "name": "python3"
  },
  "language_info": {
   "codemirror_mode": {
    "name": "ipython",
    "version": 3
   },
   "file_extension": ".py",
   "mimetype": "text/x-python",
   "name": "python",
   "nbconvert_exporter": "python",
   "pygments_lexer": "ipython3",
   "version": "3.11.5"
  }
 },
 "nbformat": 4,
 "nbformat_minor": 5
}
