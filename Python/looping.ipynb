{
 "cells": [
  {
   "cell_type": "code",
   "execution_count": 2,
   "id": "53fde475",
   "metadata": {},
   "outputs": [],
   "source": [
    "lst = [11,2,3,4,5,6,8,7]\n",
    "for item in lst:\n",
    "    pass\n",
    "# for is keyword\n",
    "# in operator membership = == is"
   ]
  },
  {
   "cell_type": "code",
   "execution_count": 3,
   "id": "a16fcf42",
   "metadata": {},
   "outputs": [
    {
     "name": "stdout",
     "output_type": "stream",
     "text": [
      "11\n",
      "2\n",
      "3\n",
      "4\n",
      "5\n",
      "6\n",
      "8\n",
      "7\n"
     ]
    }
   ],
   "source": [
    "for item in lst:\n",
    "    print(item)"
   ]
  },
  {
   "cell_type": "code",
   "execution_count": 4,
   "id": "566ca6ca",
   "metadata": {},
   "outputs": [
    {
     "name": "stdout",
     "output_type": "stream",
     "text": [
      "r\n",
      "o\n",
      "h\n",
      "i\n",
      "t\n",
      " \n",
      "k\n",
      "u\n",
      "m\n",
      "a\n",
      "r\n",
      "2\n",
      "4\n",
      "6\n",
      "8\n",
      "10\n",
      "12\n",
      "14\n",
      "16\n",
      "18\n",
      "20\n"
     ]
    }
   ],
   "source": [
    "name = \"rohit kumar\"\n",
    "for i in name:\n",
    "    print(i)\n",
    "for x in range(2,22,2):\n",
    "    print(x)\n"
   ]
  },
  {
   "cell_type": "code",
   "execution_count": 5,
   "id": "439dcf03",
   "metadata": {},
   "outputs": [],
   "source": [
    "my_dict = {\"name\":\"ishant\",\"age\":\"19\",\"add\":\"alwar\"}\n"
   ]
  },
  {
   "cell_type": "code",
   "execution_count": null,
   "id": "19ec2986",
   "metadata": {},
   "outputs": [
    {
     "name": "stdout",
     "output_type": "stream",
     "text": [
      "name\n",
      "age\n",
      "add\n"
     ]
    }
   ],
   "source": [
    "for keys in my_dict.keys():\n",
    "    print(keys)"
   ]
  },
  {
   "cell_type": "code",
   "execution_count": 8,
   "id": "81c75fb9",
   "metadata": {},
   "outputs": [
    {
     "name": "stdout",
     "output_type": "stream",
     "text": [
      "ishant\n",
      "19\n",
      "alwar\n"
     ]
    }
   ],
   "source": [
    "for values in my_dict.values():\n",
    "    print(values)"
   ]
  },
  {
   "cell_type": "code",
   "execution_count": 9,
   "id": "be2925e1",
   "metadata": {},
   "outputs": [
    {
     "name": "stdout",
     "output_type": "stream",
     "text": [
      "('name', 'ishant')\n",
      "('age', '19')\n",
      "('add', 'alwar')\n"
     ]
    }
   ],
   "source": [
    "for items in my_dict.items():\n",
    "    print(items)"
   ]
  },
  {
   "cell_type": "code",
   "execution_count": 10,
   "id": "63136623",
   "metadata": {},
   "outputs": [
    {
     "name": "stdout",
     "output_type": "stream",
     "text": [
      "1\n",
      "2\n",
      "3\n",
      "4\n",
      "5\n",
      "ish\n",
      "ban\n"
     ]
    }
   ],
   "source": [
    "tpl = ( 1,2,3,4,5,\"ish\",\"ban\")\n",
    "for i in tpl:\n",
    "    print(i)"
   ]
  },
  {
   "cell_type": "markdown",
   "id": "4f223f46",
   "metadata": {},
   "source": [
    "while loop"
   ]
  },
  {
   "cell_type": "code",
   "execution_count": 12,
   "id": "68ae2208",
   "metadata": {},
   "outputs": [
    {
     "name": "stdout",
     "output_type": "stream",
     "text": [
      "0\n",
      "1\n",
      "2\n",
      "3\n",
      "4\n",
      "5\n",
      "6\n",
      "7\n",
      "8\n",
      "9\n"
     ]
    }
   ],
   "source": [
    "x = 0\n",
    "while x<10:\n",
    "    print(x)\n",
    "    x=x+1"
   ]
  },
  {
   "cell_type": "code",
   "execution_count": 13,
   "id": "e127b7f7",
   "metadata": {},
   "outputs": [
    {
     "name": "stdout",
     "output_type": "stream",
     "text": [
      "11\n",
      "2\n",
      "3\n",
      "11\n",
      "2\n",
      "3\n",
      "8\n",
      "8\n"
     ]
    }
   ],
   "source": [
    "lst = [11,2,3,5,5,8,5,8]\n",
    "for item in lst:\n",
    "    if item == 5:\n",
    "        break\n",
    "    print(item)\n",
    "for item in lst:\n",
    "    if item == 5:\n",
    "        continue\n",
    "    print(item)\n"
   ]
  },
  {
   "cell_type": "code",
   "execution_count": 14,
   "id": "7c8bacd1",
   "metadata": {},
   "outputs": [
    {
     "name": "stdout",
     "output_type": "stream",
     "text": [
      "2\n",
      "hello\n",
      "4\n",
      "hello\n",
      "6\n",
      "hello\n",
      "8\n",
      "hello\n",
      "10\n",
      "12\n",
      "hello\n",
      "14\n",
      "hello\n",
      "16\n",
      "hello\n",
      "18\n",
      "hello\n",
      "20\n",
      "hello\n"
     ]
    }
   ],
   "source": [
    "for i in range (2,22,2):\n",
    "    print(i)\n",
    "    if i == 10:\n",
    "        continue\n",
    "    print(\"hello\")"
   ]
  }
 ],
 "metadata": {
  "kernelspec": {
   "display_name": "Python 3",
   "language": "python",
   "name": "python3"
  },
  "language_info": {
   "codemirror_mode": {
    "name": "ipython",
    "version": 3
   },
   "file_extension": ".py",
   "mimetype": "text/x-python",
   "name": "python",
   "nbconvert_exporter": "python",
   "pygments_lexer": "ipython3",
   "version": "3.11.5"
  }
 },
 "nbformat": 4,
 "nbformat_minor": 5
}
